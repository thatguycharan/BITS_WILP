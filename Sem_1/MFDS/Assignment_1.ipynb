{
 "cells": [
  {
   "cell_type": "code",
   "execution_count": 103,
   "id": "7868771a",
   "metadata": {},
   "outputs": [],
   "source": [
    "import numpy as np\n",
    "np.set_printoptions(formatter={'float': lambda x: \"{0:0.3f}\".format(x)})"
   ]
  },
  {
   "cell_type": "code",
   "execution_count": 107,
   "id": "15fa7227",
   "metadata": {},
   "outputs": [],
   "source": [
    "def generateRandMatrix(x, y):\n",
    "    return np.random.random((x, y))\n",
    "\n",
    "def checkMat(A, b):\n",
    "    if (type(A) != np.ndarray or type(b) != np.ndarray):\n",
    "        print(\"Case 1\", end = \" \") # inputs are not matrices\n",
    "        return False\n",
    "    elif (np.size(A, 0) != np.size(b, 0)):\n",
    "        print(\"Case 2\", end = \" \") # row size of A and b should be equal\n",
    "        return False\n",
    "    elif (np.size(A, 0) < np.size(A, 1)):\n",
    "        print(\"Case 3\", end = \" \") # row size should be less than column size\n",
    "        return False\n",
    "    elif (np.size(b,1) != 1):\n",
    "        print(\"Case 4\", end = \" \") # b should only have 1 column\n",
    "        return False\n",
    "    else:\n",
    "        return True\n",
    "\n",
    "def REF(MREF):\n",
    "    M = MREF\n",
    "    rowCount = len(M)\n",
    "    colCount = len(M[0])\n",
    "    # print(\"#rows\", rowCount, \"#cols\", colCount)\n",
    "    \n",
    "    pivotRow = 0\n",
    "    for col in range(colCount):\n",
    "        largestRow = pivotRow\n",
    "        \n",
    "        # Find the row with highest magnitude\n",
    "        for row in range(pivotRow + 1, rowCount):\n",
    "            if (abs(M[row, col]) > abs(M[pivotRow, col])):\n",
    "                largestRow = row\n",
    "                \n",
    "        # Make the highest magnitude row as PIVOT_ROW by SWAP elementary OP      \n",
    "        if (largestRow != pivotRow):\n",
    "            M[largestRow], M[pivotRow] = M[pivotRow], M[largestRow]\n",
    "        \n",
    "        # Perform elementary row OPs only for non-zero leads\n",
    "        if (abs(M[pivotRow, col]) != 0):\n",
    "            for row in range(pivotRow + 1, rowCount):\n",
    "                # Elementary OP => ROW = ROW - ROW * (PIVOT_ROW / LEAD_PIVOT_ELEMENT)\n",
    "                M[row, col:] -= M[row, col] * (M[pivotRow, col:] / M[pivotRow, col]) \n",
    "            \n",
    "            pivotRow += 1\n",
    "            \n",
    "    return M"
   ]
  },
  {
   "cell_type": "code",
   "execution_count": 109,
   "id": "28cbe0a3",
   "metadata": {},
   "outputs": [
    {
     "name": "stdout",
     "output_type": "stream",
     "text": [
      "Augmented Matrix: \n",
      " [[0.035 0.714 0.174 ... 0.967 0.425 0.825]\n",
      " [0.086 0.651 0.896 ... 0.275 0.461 0.675]\n",
      " [0.540 0.849 0.010 ... 0.532 0.360 0.532]\n",
      " ...\n",
      " [0.167 0.276 0.182 ... 0.284 0.917 0.835]\n",
      " [0.659 0.559 0.891 ... 0.949 0.348 0.329]\n",
      " [0.235 0.509 0.255 ... 0.524 0.867 0.358]] ( 500 x 301 ) \n",
      "\n",
      "REF: \n",
      " [[0.035 0.714 0.174 ... 0.967 0.425 0.825]\n",
      " [0.000 -1.079 0.475 ... -2.069 -0.568 -1.323]\n",
      " [0.000 0.000 -7.036 ... 5.005 -0.834 0.258]\n",
      " ...\n",
      " [0.000 0.000 0.000 ... 0.000 0.000 0.000]\n",
      " [0.000 0.000 0.000 ... 0.000 0.000 0.000]\n",
      " [0.000 0.000 0.000 ... 0.000 0.000 0.000]]\n"
     ]
    }
   ],
   "source": [
    "rows = 500\n",
    "cols = 300\n",
    "A = generateRandMatrix(rows, cols)\n",
    "b = generateRandMatrix(rows,1)\n",
    "\n",
    "if (not checkMat(A,b)):\n",
    "    print(\"ERR: Invalid Matrices\\n\\n\")\n",
    "else:\n",
    "    augMat = np.concatenate((A,b), axis = 1) # concatenate \"b\" to \"A\" and get augmented matrix\n",
    "    print(\"Augmented Matrix: \\n\", augMat, \"(\", np.size(augMat, 0), \"x\", np.size(augMat, 1), \")\", \"\\n\")\n",
    "    matrixREF = REF(augMat)\n",
    "    print(\"REF: \\n\", matrixREF)\n",
    "    # print(\"Input A: \\n\", A, \"(\", np.size(A, 0), \"x\", np.size(A, 1), \")\", \"\\n\")\n",
    "    # print(\"Input b: \\n\", b, \"(\", np.size(b, 0), \"x\", np.size(b, 1), \")\",\"\\n\")\n",
    "    "
   ]
  },
  {
   "cell_type": "code",
   "execution_count": null,
   "id": "0a0eb8be",
   "metadata": {},
   "outputs": [],
   "source": []
  },
  {
   "cell_type": "code",
   "execution_count": null,
   "id": "07a0ed4b",
   "metadata": {},
   "outputs": [],
   "source": []
  }
 ],
 "metadata": {
  "kernelspec": {
   "display_name": "Python 3 (ipykernel)",
   "language": "python",
   "name": "python3"
  },
  "language_info": {
   "codemirror_mode": {
    "name": "ipython",
    "version": 3
   },
   "file_extension": ".py",
   "mimetype": "text/x-python",
   "name": "python",
   "nbconvert_exporter": "python",
   "pygments_lexer": "ipython3",
   "version": "3.10.9"
  }
 },
 "nbformat": 4,
 "nbformat_minor": 5
}
